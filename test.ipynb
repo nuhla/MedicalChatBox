{
 "cells": [
  {
   "cell_type": "code",
   "execution_count": 8,
   "metadata": {},
   "outputs": [
    {
     "name": "stdout",
     "output_type": "stream",
     "text": [
      "ok\n"
     ]
    }
   ],
   "source": [
    "print(\"ok\")"
   ]
  },
  {
   "cell_type": "code",
   "execution_count": 9,
   "metadata": {},
   "outputs": [
    {
     "name": "stdout",
     "output_type": "stream",
     "text": [
      "Requirement already satisfied: langchain==0.0.225 in c:\\users\\ss\\anaconda3\\envs\\mchb\\lib\\site-packages (0.0.225)\n",
      "Requirement already satisfied: PyYAML>=5.4.1 in c:\\users\\ss\\anaconda3\\envs\\mchb\\lib\\site-packages (from langchain==0.0.225) (6.0.2)\n",
      "Requirement already satisfied: SQLAlchemy<3,>=1.4 in c:\\users\\ss\\anaconda3\\envs\\mchb\\lib\\site-packages (from langchain==0.0.225) (2.0.35)\n",
      "Requirement already satisfied: aiohttp<4.0.0,>=3.8.3 in c:\\users\\ss\\anaconda3\\envs\\mchb\\lib\\site-packages (from langchain==0.0.225) (3.10.9)\n",
      "Requirement already satisfied: dataclasses-json<0.6.0,>=0.5.7 in c:\\users\\ss\\anaconda3\\envs\\mchb\\lib\\site-packages (from langchain==0.0.225) (0.5.14)\n",
      "Requirement already satisfied: langchainplus-sdk<0.0.21,>=0.0.20 in c:\\users\\ss\\anaconda3\\envs\\mchb\\lib\\site-packages (from langchain==0.0.225) (0.0.20)\n",
      "Requirement already satisfied: numexpr<3.0.0,>=2.8.4 in c:\\users\\ss\\anaconda3\\envs\\mchb\\lib\\site-packages (from langchain==0.0.225) (2.10.1)\n",
      "Requirement already satisfied: numpy<2,>=1 in c:\\users\\ss\\anaconda3\\envs\\mchb\\lib\\site-packages (from langchain==0.0.225) (1.26.4)\n",
      "Requirement already satisfied: openapi-schema-pydantic<2.0,>=1.2 in c:\\users\\ss\\anaconda3\\envs\\mchb\\lib\\site-packages (from langchain==0.0.225) (1.2.4)\n",
      "Requirement already satisfied: pydantic<2,>=1 in c:\\users\\ss\\anaconda3\\envs\\mchb\\lib\\site-packages (from langchain==0.0.225) (1.10.18)\n",
      "Requirement already satisfied: requests<3,>=2 in c:\\users\\ss\\anaconda3\\envs\\mchb\\lib\\site-packages (from langchain==0.0.225) (2.32.3)\n",
      "Requirement already satisfied: tenacity<9.0.0,>=8.1.0 in c:\\users\\ss\\anaconda3\\envs\\mchb\\lib\\site-packages (from langchain==0.0.225) (8.5.0)\n",
      "Requirement already satisfied: aiohappyeyeballs>=2.3.0 in c:\\users\\ss\\anaconda3\\envs\\mchb\\lib\\site-packages (from aiohttp<4.0.0,>=3.8.3->langchain==0.0.225) (2.4.3)\n",
      "Requirement already satisfied: aiosignal>=1.1.2 in c:\\users\\ss\\anaconda3\\envs\\mchb\\lib\\site-packages (from aiohttp<4.0.0,>=3.8.3->langchain==0.0.225) (1.3.1)\n",
      "Requirement already satisfied: attrs>=17.3.0 in c:\\users\\ss\\anaconda3\\envs\\mchb\\lib\\site-packages (from aiohttp<4.0.0,>=3.8.3->langchain==0.0.225) (24.2.0)\n",
      "Requirement already satisfied: frozenlist>=1.1.1 in c:\\users\\ss\\anaconda3\\envs\\mchb\\lib\\site-packages (from aiohttp<4.0.0,>=3.8.3->langchain==0.0.225) (1.4.1)\n",
      "Requirement already satisfied: multidict<7.0,>=4.5 in c:\\users\\ss\\anaconda3\\envs\\mchb\\lib\\site-packages (from aiohttp<4.0.0,>=3.8.3->langchain==0.0.225) (6.1.0)\n",
      "Requirement already satisfied: yarl<2.0,>=1.12.0 in c:\\users\\ss\\anaconda3\\envs\\mchb\\lib\\site-packages (from aiohttp<4.0.0,>=3.8.3->langchain==0.0.225) (1.13.1)\n",
      "Requirement already satisfied: marshmallow<4.0.0,>=3.18.0 in c:\\users\\ss\\anaconda3\\envs\\mchb\\lib\\site-packages (from dataclasses-json<0.6.0,>=0.5.7->langchain==0.0.225) (3.22.0)\n",
      "Requirement already satisfied: typing-inspect<1,>=0.4.0 in c:\\users\\ss\\anaconda3\\envs\\mchb\\lib\\site-packages (from dataclasses-json<0.6.0,>=0.5.7->langchain==0.0.225) (0.9.0)\n",
      "Requirement already satisfied: typing-extensions>=4.2.0 in c:\\users\\ss\\anaconda3\\envs\\mchb\\lib\\site-packages (from pydantic<2,>=1->langchain==0.0.225) (4.12.2)\n",
      "Requirement already satisfied: charset-normalizer<4,>=2 in c:\\users\\ss\\anaconda3\\envs\\mchb\\lib\\site-packages (from requests<3,>=2->langchain==0.0.225) (3.3.2)\n",
      "Requirement already satisfied: idna<4,>=2.5 in c:\\users\\ss\\anaconda3\\envs\\mchb\\lib\\site-packages (from requests<3,>=2->langchain==0.0.225) (3.10)\n",
      "Requirement already satisfied: urllib3<3,>=1.21.1 in c:\\users\\ss\\anaconda3\\envs\\mchb\\lib\\site-packages (from requests<3,>=2->langchain==0.0.225) (2.2.3)\n",
      "Requirement already satisfied: certifi>=2017.4.17 in c:\\users\\ss\\anaconda3\\envs\\mchb\\lib\\site-packages (from requests<3,>=2->langchain==0.0.225) (2024.8.30)\n",
      "Requirement already satisfied: greenlet!=0.4.17 in c:\\users\\ss\\anaconda3\\envs\\mchb\\lib\\site-packages (from SQLAlchemy<3,>=1.4->langchain==0.0.225) (3.1.1)\n",
      "Requirement already satisfied: packaging>=17.0 in c:\\users\\ss\\anaconda3\\envs\\mchb\\lib\\site-packages (from marshmallow<4.0.0,>=3.18.0->dataclasses-json<0.6.0,>=0.5.7->langchain==0.0.225) (24.1)\n",
      "Requirement already satisfied: mypy-extensions>=0.3.0 in c:\\users\\ss\\anaconda3\\envs\\mchb\\lib\\site-packages (from typing-inspect<1,>=0.4.0->dataclasses-json<0.6.0,>=0.5.7->langchain==0.0.225) (1.0.0)\n"
     ]
    }
   ],
   "source": [
    "!pip install langchain==0.0.225"
   ]
  },
  {
   "cell_type": "code",
   "execution_count": 10,
   "metadata": {},
   "outputs": [
    {
     "name": "stdout",
     "output_type": "stream",
     "text": [
      "Requirement already satisfied: pinecone-client in c:\\users\\ss\\anaconda3\\envs\\mchb\\lib\\site-packages (5.0.1)\n",
      "Requirement already satisfied: certifi>=2019.11.17 in c:\\users\\ss\\anaconda3\\envs\\mchb\\lib\\site-packages (from pinecone-client) (2024.8.30)\n",
      "Requirement already satisfied: pinecone-plugin-inference<2.0.0,>=1.0.3 in c:\\users\\ss\\anaconda3\\envs\\mchb\\lib\\site-packages (from pinecone-client) (1.1.0)\n",
      "Requirement already satisfied: pinecone-plugin-interface<0.0.8,>=0.0.7 in c:\\users\\ss\\anaconda3\\envs\\mchb\\lib\\site-packages (from pinecone-client) (0.0.7)\n",
      "Requirement already satisfied: tqdm>=4.64.1 in c:\\users\\ss\\anaconda3\\envs\\mchb\\lib\\site-packages (from pinecone-client) (4.66.5)\n",
      "Requirement already satisfied: typing-extensions>=3.7.4 in c:\\users\\ss\\anaconda3\\envs\\mchb\\lib\\site-packages (from pinecone-client) (4.12.2)\n",
      "Requirement already satisfied: urllib3>=1.26.5 in c:\\users\\ss\\anaconda3\\envs\\mchb\\lib\\site-packages (from pinecone-client) (2.2.3)\n",
      "Requirement already satisfied: colorama in c:\\users\\ss\\anaconda3\\envs\\mchb\\lib\\site-packages (from tqdm>=4.64.1->pinecone-client) (0.4.6)\n"
     ]
    }
   ],
   "source": [
    "!pip install pinecone-client"
   ]
  },
  {
   "cell_type": "code",
   "execution_count": 11,
   "metadata": {},
   "outputs": [],
   "source": [
    "from langchain import PromptTemplate"
   ]
  },
  {
   "cell_type": "code",
   "execution_count": 12,
   "metadata": {},
   "outputs": [],
   "source": [
    "from langchain.chains import RetrievalQA"
   ]
  },
  {
   "cell_type": "code",
   "execution_count": 13,
   "metadata": {},
   "outputs": [],
   "source": [
    "from langchain.embeddings import HuggingFaceEmbeddings\n",
    "from langchain.vectorstores import Pinecone\n",
    "import pinecone\n",
    "from langchain.document_loaders import PyMuPDFLoader, DirectoryLoader\n",
    "from langchain.text_splitter import RecursiveCharacterTextSplitter"
   ]
  },
  {
   "cell_type": "code",
   "execution_count": 14,
   "metadata": {},
   "outputs": [],
   "source": [
    "from langchain.llms import ctransformers"
   ]
  },
  {
   "cell_type": "markdown",
   "metadata": {},
   "source": [
    "### Extract my data from Pdf file"
   ]
  },
  {
   "cell_type": "code",
   "execution_count": 17,
   "metadata": {},
   "outputs": [],
   "source": [
    "def load_pdf(data):\n",
    "    loader=DirectoryLoader(data, \n",
    "                    glob=\"*.pdf\",\n",
    "                    loader_cls=PyMuPDFLoader)\n",
    "    documents= loader.load()\n",
    "\n",
    "    return documents"
   ]
  },
  {
   "cell_type": "code",
   "execution_count": 23,
   "metadata": {},
   "outputs": [
    {
     "name": "stdout",
     "output_type": "stream",
     "text": [
      "Requirement already satisfied: PyPDF2 in c:\\users\\ss\\anaconda3\\envs\\mchb\\lib\\site-packages (3.0.1)\n",
      "Collecting PyMuPDF\n",
      "  Using cached PyMuPDF-1.24.11-cp38-abi3-win_amd64.whl.metadata (3.4 kB)\n",
      "Using cached PyMuPDF-1.24.11-cp38-abi3-win_amd64.whl (16.0 MB)\n",
      "Installing collected packages: PyMuPDF\n",
      "Successfully installed PyMuPDF-1.24.11\n"
     ]
    }
   ],
   "source": [
    "!pip install PyPDF2\n",
    "!pip install PyMuPDF"
   ]
  },
  {
   "cell_type": "code",
   "execution_count": 24,
   "metadata": {},
   "outputs": [],
   "source": [
    "extracted_data = load_pdf(\"data/\")"
   ]
  },
  {
   "cell_type": "markdown",
   "metadata": {},
   "source": [
    "### Split Text to Create chunks"
   ]
  },
  {
   "cell_type": "code",
   "execution_count": 27,
   "metadata": {},
   "outputs": [],
   "source": [
    "def text_splinting(extracted_data):\n",
    "    text_splitter=RecursiveCharacterTextSplitter(chunk_size=500, chunk_overlap=20)\n",
    "    text_chunks=text_splitter.split_documents(extracted_data)\n",
    "    return text_chunks "
   ]
  },
  {
   "cell_type": "code",
   "execution_count": 28,
   "metadata": {},
   "outputs": [],
   "source": [
    "chunks = text_splinting(extracted_data)"
   ]
  },
  {
   "cell_type": "code",
   "execution_count": 32,
   "metadata": {},
   "outputs": [
    {
     "data": {
      "text/plain": [
       "5779"
      ]
     },
     "execution_count": 32,
     "metadata": {},
     "output_type": "execute_result"
    }
   ],
   "source": [
    "len(chunks)"
   ]
  },
  {
   "cell_type": "markdown",
   "metadata": {},
   "source": [
    "### Creating Embedings from chunks"
   ]
  },
  {
   "cell_type": "code",
   "execution_count": 43,
   "metadata": {},
   "outputs": [
    {
     "name": "stdout",
     "output_type": "stream",
     "text": [
      "Collecting sentence_transformers\n",
      "  Downloading sentence_transformers-3.1.1-py3-none-any.whl.metadata (10 kB)\n",
      "Collecting transformers<5.0.0,>=4.38.0 (from sentence_transformers)\n",
      "  Using cached transformers-4.45.2-py3-none-any.whl.metadata (44 kB)\n",
      "Requirement already satisfied: tqdm in c:\\users\\ss\\anaconda3\\envs\\mchb\\lib\\site-packages (from sentence_transformers) (4.66.5)\n",
      "Collecting torch>=1.11.0 (from sentence_transformers)\n",
      "  Downloading torch-2.4.1-cp312-cp312-win_amd64.whl.metadata (27 kB)\n",
      "Collecting scikit-learn (from sentence_transformers)\n",
      "  Downloading scikit_learn-1.5.2-cp312-cp312-win_amd64.whl.metadata (13 kB)\n",
      "Collecting scipy (from sentence_transformers)\n",
      "  Downloading scipy-1.14.1-cp312-cp312-win_amd64.whl.metadata (60 kB)\n",
      "Collecting huggingface-hub>=0.19.3 (from sentence_transformers)\n",
      "  Using cached huggingface_hub-0.25.1-py3-none-any.whl.metadata (13 kB)\n",
      "Collecting Pillow (from sentence_transformers)\n",
      "  Downloading pillow-10.4.0-cp312-cp312-win_amd64.whl.metadata (9.3 kB)\n",
      "Collecting filelock (from huggingface-hub>=0.19.3->sentence_transformers)\n",
      "  Downloading filelock-3.16.1-py3-none-any.whl.metadata (2.9 kB)\n",
      "Collecting fsspec>=2023.5.0 (from huggingface-hub>=0.19.3->sentence_transformers)\n",
      "  Downloading fsspec-2024.9.0-py3-none-any.whl.metadata (11 kB)\n",
      "Requirement already satisfied: packaging>=20.9 in c:\\users\\ss\\anaconda3\\envs\\mchb\\lib\\site-packages (from huggingface-hub>=0.19.3->sentence_transformers) (24.1)\n",
      "Requirement already satisfied: pyyaml>=5.1 in c:\\users\\ss\\anaconda3\\envs\\mchb\\lib\\site-packages (from huggingface-hub>=0.19.3->sentence_transformers) (6.0.2)\n",
      "Requirement already satisfied: requests in c:\\users\\ss\\anaconda3\\envs\\mchb\\lib\\site-packages (from huggingface-hub>=0.19.3->sentence_transformers) (2.32.3)\n",
      "Requirement already satisfied: typing-extensions>=3.7.4.3 in c:\\users\\ss\\anaconda3\\envs\\mchb\\lib\\site-packages (from huggingface-hub>=0.19.3->sentence_transformers) (4.12.2)\n",
      "Collecting sympy (from torch>=1.11.0->sentence_transformers)\n",
      "  Downloading sympy-1.13.3-py3-none-any.whl.metadata (12 kB)\n",
      "Collecting networkx (from torch>=1.11.0->sentence_transformers)\n",
      "  Downloading networkx-3.3-py3-none-any.whl.metadata (5.1 kB)\n",
      "Collecting jinja2 (from torch>=1.11.0->sentence_transformers)\n",
      "  Downloading jinja2-3.1.4-py3-none-any.whl.metadata (2.6 kB)\n",
      "Requirement already satisfied: setuptools in c:\\users\\ss\\anaconda3\\envs\\mchb\\lib\\site-packages (from torch>=1.11.0->sentence_transformers) (75.1.0)\n",
      "Requirement already satisfied: colorama in c:\\users\\ss\\anaconda3\\envs\\mchb\\lib\\site-packages (from tqdm->sentence_transformers) (0.4.6)\n",
      "Requirement already satisfied: numpy>=1.17 in c:\\users\\ss\\anaconda3\\envs\\mchb\\lib\\site-packages (from transformers<5.0.0,>=4.38.0->sentence_transformers) (1.26.4)\n",
      "Collecting regex!=2019.12.17 (from transformers<5.0.0,>=4.38.0->sentence_transformers)\n",
      "  Downloading regex-2024.9.11-cp312-cp312-win_amd64.whl.metadata (41 kB)\n",
      "Collecting safetensors>=0.4.1 (from transformers<5.0.0,>=4.38.0->sentence_transformers)\n",
      "  Downloading safetensors-0.4.5-cp312-none-win_amd64.whl.metadata (3.9 kB)\n",
      "Collecting tokenizers<0.21,>=0.20 (from transformers<5.0.0,>=4.38.0->sentence_transformers)\n",
      "  Downloading tokenizers-0.20.0-cp312-none-win_amd64.whl.metadata (6.9 kB)\n",
      "Collecting joblib>=1.2.0 (from scikit-learn->sentence_transformers)\n",
      "  Downloading joblib-1.4.2-py3-none-any.whl.metadata (5.4 kB)\n",
      "Collecting threadpoolctl>=3.1.0 (from scikit-learn->sentence_transformers)\n",
      "  Downloading threadpoolctl-3.5.0-py3-none-any.whl.metadata (13 kB)\n",
      "Collecting MarkupSafe>=2.0 (from jinja2->torch>=1.11.0->sentence_transformers)\n",
      "  Downloading MarkupSafe-3.0.0-cp312-cp312-win_amd64.whl.metadata (4.1 kB)\n",
      "Requirement already satisfied: charset-normalizer<4,>=2 in c:\\users\\ss\\anaconda3\\envs\\mchb\\lib\\site-packages (from requests->huggingface-hub>=0.19.3->sentence_transformers) (3.3.2)\n",
      "Requirement already satisfied: idna<4,>=2.5 in c:\\users\\ss\\anaconda3\\envs\\mchb\\lib\\site-packages (from requests->huggingface-hub>=0.19.3->sentence_transformers) (3.10)\n",
      "Requirement already satisfied: urllib3<3,>=1.21.1 in c:\\users\\ss\\anaconda3\\envs\\mchb\\lib\\site-packages (from requests->huggingface-hub>=0.19.3->sentence_transformers) (2.2.3)\n",
      "Requirement already satisfied: certifi>=2017.4.17 in c:\\users\\ss\\anaconda3\\envs\\mchb\\lib\\site-packages (from requests->huggingface-hub>=0.19.3->sentence_transformers) (2024.8.30)\n",
      "Collecting mpmath<1.4,>=1.1.0 (from sympy->torch>=1.11.0->sentence_transformers)\n",
      "  Downloading mpmath-1.3.0-py3-none-any.whl.metadata (8.6 kB)\n",
      "Downloading sentence_transformers-3.1.1-py3-none-any.whl (245 kB)\n",
      "Using cached huggingface_hub-0.25.1-py3-none-any.whl (436 kB)\n",
      "Downloading torch-2.4.1-cp312-cp312-win_amd64.whl (199.4 MB)\n",
      "   ---------------------------------------- 0.0/199.4 MB ? eta -:--:--\n",
      "    --------------------------------------- 4.2/199.4 MB 21.0 MB/s eta 0:00:10\n",
      "   - -------------------------------------- 8.4/199.4 MB 20.0 MB/s eta 0:00:10\n",
      "   -- ------------------------------------- 11.0/199.4 MB 17.6 MB/s eta 0:00:11\n",
      "   -- ------------------------------------- 14.2/199.4 MB 17.1 MB/s eta 0:00:11\n",
      "   --- ------------------------------------ 18.9/199.4 MB 19.2 MB/s eta 0:00:10\n",
      "   ----- ---------------------------------- 27.8/199.4 MB 22.6 MB/s eta 0:00:08\n",
      "   ------ --------------------------------- 34.6/199.4 MB 24.2 MB/s eta 0:00:07\n",
      "   -------- ------------------------------- 41.4/199.4 MB 25.3 MB/s eta 0:00:07\n",
      "   --------- ------------------------------ 48.8/199.4 MB 26.3 MB/s eta 0:00:06\n",
      "   ----------- ---------------------------- 55.8/199.4 MB 27.2 MB/s eta 0:00:06\n",
      "   ------------ --------------------------- 62.9/199.4 MB 27.8 MB/s eta 0:00:05\n",
      "   -------------- ------------------------- 70.0/199.4 MB 28.4 MB/s eta 0:00:05\n",
      "   --------------- ------------------------ 76.8/199.4 MB 28.8 MB/s eta 0:00:05\n",
      "   ---------------- ----------------------- 83.9/199.4 MB 29.2 MB/s eta 0:00:04\n",
      "   ------------------ --------------------- 91.5/199.4 MB 29.6 MB/s eta 0:00:04\n",
      "   ------------------- -------------------- 98.8/199.4 MB 29.9 MB/s eta 0:00:04\n",
      "   -------------------- ------------------ 106.4/199.4 MB 30.3 MB/s eta 0:00:04\n",
      "   ---------------------- ---------------- 113.8/199.4 MB 30.5 MB/s eta 0:00:03\n",
      "   ----------------------- --------------- 121.4/199.4 MB 30.9 MB/s eta 0:00:03\n",
      "   ------------------------- ------------- 129.0/199.4 MB 31.1 MB/s eta 0:00:03\n",
      "   -------------------------- ------------ 136.3/199.4 MB 31.3 MB/s eta 0:00:03\n",
      "   ---------------------------- ---------- 143.9/199.4 MB 31.5 MB/s eta 0:00:02\n",
      "   ----------------------------- --------- 151.3/199.4 MB 31.7 MB/s eta 0:00:02\n",
      "   ------------------------------- ------- 158.6/199.4 MB 31.8 MB/s eta 0:00:02\n",
      "   -------------------------------- ------ 166.2/199.4 MB 31.9 MB/s eta 0:00:02\n",
      "   --------------------------------- ----- 173.8/199.4 MB 32.1 MB/s eta 0:00:01\n",
      "   ----------------------------------- --- 181.4/199.4 MB 32.2 MB/s eta 0:00:01\n",
      "   ------------------------------------ -- 189.0/199.4 MB 32.3 MB/s eta 0:00:01\n",
      "   --------------------------------------  196.3/199.4 MB 32.4 MB/s eta 0:00:01\n",
      "   --------------------------------------  199.2/199.4 MB 32.5 MB/s eta 0:00:01\n",
      "   --------------------------------------- 199.4/199.4 MB 30.9 MB/s eta 0:00:00\n",
      "Using cached transformers-4.45.2-py3-none-any.whl (9.9 MB)\n",
      "Downloading pillow-10.4.0-cp312-cp312-win_amd64.whl (2.6 MB)\n",
      "   ---------------------------------------- 0.0/2.6 MB ? eta -:--:--\n",
      "   ---------------------------------------- 2.6/2.6 MB 29.0 MB/s eta 0:00:00\n",
      "Downloading scikit_learn-1.5.2-cp312-cp312-win_amd64.whl (11.0 MB)\n",
      "   ---------------------------------------- 0.0/11.0 MB ? eta -:--:--\n",
      "   -------------------------- ------------- 7.3/11.0 MB 32.3 MB/s eta 0:00:01\n",
      "   ---------------------------------------- 11.0/11.0 MB 31.2 MB/s eta 0:00:00\n",
      "Downloading scipy-1.14.1-cp312-cp312-win_amd64.whl (44.5 MB)\n",
      "   ---------------------------------------- 0.0/44.5 MB ? eta -:--:--\n",
      "   --- ------------------------------------ 4.2/44.5 MB 36.1 MB/s eta 0:00:02\n",
      "   ---------- ----------------------------- 11.3/44.5 MB 27.1 MB/s eta 0:00:02\n",
      "   ---------------- ----------------------- 18.6/44.5 MB 30.1 MB/s eta 0:00:01\n",
      "   ----------------------- ---------------- 26.0/44.5 MB 31.0 MB/s eta 0:00:01\n",
      "   ----------------------------- ---------- 33.3/44.5 MB 32.0 MB/s eta 0:00:01\n",
      "   ------------------------------------ --- 40.9/44.5 MB 32.5 MB/s eta 0:00:01\n",
      "   ---------------------------------------- 44.5/44.5 MB 31.1 MB/s eta 0:00:00\n",
      "Downloading fsspec-2024.9.0-py3-none-any.whl (179 kB)\n",
      "Downloading joblib-1.4.2-py3-none-any.whl (301 kB)\n",
      "Downloading regex-2024.9.11-cp312-cp312-win_amd64.whl (273 kB)\n",
      "Downloading safetensors-0.4.5-cp312-none-win_amd64.whl (286 kB)\n",
      "Downloading threadpoolctl-3.5.0-py3-none-any.whl (18 kB)\n",
      "Downloading tokenizers-0.20.0-cp312-none-win_amd64.whl (2.3 MB)\n",
      "   ---------------------------------------- 0.0/2.3 MB ? eta -:--:--\n",
      "   ---------------------------------------- 2.3/2.3 MB 26.3 MB/s eta 0:00:00\n",
      "Downloading filelock-3.16.1-py3-none-any.whl (16 kB)\n",
      "Downloading jinja2-3.1.4-py3-none-any.whl (133 kB)\n",
      "Downloading networkx-3.3-py3-none-any.whl (1.7 MB)\n",
      "   ---------------------------------------- 0.0/1.7 MB ? eta -:--:--\n",
      "   ---------------------------------------- 1.7/1.7 MB 30.6 MB/s eta 0:00:00\n",
      "Downloading sympy-1.13.3-py3-none-any.whl (6.2 MB)\n",
      "   ---------------------------------------- 0.0/6.2 MB ? eta -:--:--\n",
      "   ---------------------------------------- 6.2/6.2 MB 34.5 MB/s eta 0:00:00\n",
      "Downloading MarkupSafe-3.0.0-cp312-cp312-win_amd64.whl (15 kB)\n",
      "Downloading mpmath-1.3.0-py3-none-any.whl (536 kB)\n",
      "   ---------------------------------------- 0.0/536.2 kB ? eta -:--:--\n",
      "   --------------------------------------- 536.2/536.2 kB 17.1 MB/s eta 0:00:00\n",
      "Installing collected packages: mpmath, threadpoolctl, sympy, scipy, safetensors, regex, Pillow, networkx, MarkupSafe, joblib, fsspec, filelock, scikit-learn, jinja2, huggingface-hub, torch, tokenizers, transformers, sentence_transformers\n",
      "Successfully installed MarkupSafe-3.0.0 Pillow-10.4.0 filelock-3.16.1 fsspec-2024.9.0 huggingface-hub-0.25.1 jinja2-3.1.4 joblib-1.4.2 mpmath-1.3.0 networkx-3.3 regex-2024.9.11 safetensors-0.4.5 scikit-learn-1.5.2 scipy-1.14.1 sentence_transformers-3.1.1 sympy-1.13.3 threadpoolctl-3.5.0 tokenizers-0.20.0 torch-2.4.1 transformers-4.45.2\n"
     ]
    }
   ],
   "source": [
    "!pip install sentence_transformers"
   ]
  },
  {
   "cell_type": "code",
   "execution_count": 44,
   "metadata": {},
   "outputs": [],
   "source": [
    "\n",
    "def download_hugging_face_embeddings():\n",
    "    embeddings=HuggingFaceEmbeddings(model_name=\"sentence-transformers/all-MiniLM-L6-v2\")\n",
    "    return embeddings"
   ]
  },
  {
   "cell_type": "code",
   "execution_count": 45,
   "metadata": {},
   "outputs": [],
   "source": [
    "embedding = download_hugging_face_embeddings()"
   ]
  },
  {
   "cell_type": "code",
   "execution_count": 46,
   "metadata": {},
   "outputs": [
    {
     "data": {
      "text/plain": [
       "HuggingFaceEmbeddings(client=SentenceTransformer(\n",
       "  (0): Transformer({'max_seq_length': 256, 'do_lower_case': False}) with Transformer model: BertModel \n",
       "  (1): Pooling({'word_embedding_dimension': 384, 'pooling_mode_cls_token': False, 'pooling_mode_mean_tokens': True, 'pooling_mode_max_tokens': False, 'pooling_mode_mean_sqrt_len_tokens': False, 'pooling_mode_weightedmean_tokens': False, 'pooling_mode_lasttoken': False, 'include_prompt': True})\n",
       "  (2): Normalize()\n",
       "), model_name='sentence-transformers/all-MiniLM-L6-v2', cache_folder=None, model_kwargs={}, encode_kwargs={})"
      ]
     },
     "execution_count": 46,
     "metadata": {},
     "output_type": "execute_result"
    }
   ],
   "source": [
    "embedding"
   ]
  },
  {
   "cell_type": "code",
   "execution_count": null,
   "metadata": {},
   "outputs": [],
   "source": []
  }
 ],
 "metadata": {
  "kernelspec": {
   "display_name": "mchb",
   "language": "python",
   "name": "python3"
  },
  "language_info": {
   "codemirror_mode": {
    "name": "ipython",
    "version": 3
   },
   "file_extension": ".py",
   "mimetype": "text/x-python",
   "name": "python",
   "nbconvert_exporter": "python",
   "pygments_lexer": "ipython3",
   "version": "3.12.7"
  }
 },
 "nbformat": 4,
 "nbformat_minor": 2
}
