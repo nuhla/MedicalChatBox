{
 "cells": [
  {
   "cell_type": "code",
   "execution_count": 8,
   "metadata": {},
   "outputs": [
    {
     "name": "stdout",
     "output_type": "stream",
     "text": [
      "ok\n"
     ]
    }
   ],
   "source": [
    "print(\"ok\")"
   ]
  },
  {
   "cell_type": "code",
   "execution_count": 9,
   "metadata": {},
   "outputs": [
    {
     "name": "stdout",
     "output_type": "stream",
     "text": [
      "Requirement already satisfied: langchain==0.0.225 in c:\\users\\ss\\anaconda3\\envs\\mchb\\lib\\site-packages (0.0.225)\n",
      "Requirement already satisfied: PyYAML>=5.4.1 in c:\\users\\ss\\anaconda3\\envs\\mchb\\lib\\site-packages (from langchain==0.0.225) (6.0.2)\n",
      "Requirement already satisfied: SQLAlchemy<3,>=1.4 in c:\\users\\ss\\anaconda3\\envs\\mchb\\lib\\site-packages (from langchain==0.0.225) (2.0.35)\n",
      "Requirement already satisfied: aiohttp<4.0.0,>=3.8.3 in c:\\users\\ss\\anaconda3\\envs\\mchb\\lib\\site-packages (from langchain==0.0.225) (3.10.9)\n",
      "Requirement already satisfied: dataclasses-json<0.6.0,>=0.5.7 in c:\\users\\ss\\anaconda3\\envs\\mchb\\lib\\site-packages (from langchain==0.0.225) (0.5.14)\n",
      "Requirement already satisfied: langchainplus-sdk<0.0.21,>=0.0.20 in c:\\users\\ss\\anaconda3\\envs\\mchb\\lib\\site-packages (from langchain==0.0.225) (0.0.20)\n",
      "Requirement already satisfied: numexpr<3.0.0,>=2.8.4 in c:\\users\\ss\\anaconda3\\envs\\mchb\\lib\\site-packages (from langchain==0.0.225) (2.10.1)\n",
      "Requirement already satisfied: numpy<2,>=1 in c:\\users\\ss\\anaconda3\\envs\\mchb\\lib\\site-packages (from langchain==0.0.225) (1.26.4)\n",
      "Requirement already satisfied: openapi-schema-pydantic<2.0,>=1.2 in c:\\users\\ss\\anaconda3\\envs\\mchb\\lib\\site-packages (from langchain==0.0.225) (1.2.4)\n",
      "Requirement already satisfied: pydantic<2,>=1 in c:\\users\\ss\\anaconda3\\envs\\mchb\\lib\\site-packages (from langchain==0.0.225) (1.10.18)\n",
      "Requirement already satisfied: requests<3,>=2 in c:\\users\\ss\\anaconda3\\envs\\mchb\\lib\\site-packages (from langchain==0.0.225) (2.32.3)\n",
      "Requirement already satisfied: tenacity<9.0.0,>=8.1.0 in c:\\users\\ss\\anaconda3\\envs\\mchb\\lib\\site-packages (from langchain==0.0.225) (8.5.0)\n",
      "Requirement already satisfied: aiohappyeyeballs>=2.3.0 in c:\\users\\ss\\anaconda3\\envs\\mchb\\lib\\site-packages (from aiohttp<4.0.0,>=3.8.3->langchain==0.0.225) (2.4.3)\n",
      "Requirement already satisfied: aiosignal>=1.1.2 in c:\\users\\ss\\anaconda3\\envs\\mchb\\lib\\site-packages (from aiohttp<4.0.0,>=3.8.3->langchain==0.0.225) (1.3.1)\n",
      "Requirement already satisfied: attrs>=17.3.0 in c:\\users\\ss\\anaconda3\\envs\\mchb\\lib\\site-packages (from aiohttp<4.0.0,>=3.8.3->langchain==0.0.225) (24.2.0)\n",
      "Requirement already satisfied: frozenlist>=1.1.1 in c:\\users\\ss\\anaconda3\\envs\\mchb\\lib\\site-packages (from aiohttp<4.0.0,>=3.8.3->langchain==0.0.225) (1.4.1)\n",
      "Requirement already satisfied: multidict<7.0,>=4.5 in c:\\users\\ss\\anaconda3\\envs\\mchb\\lib\\site-packages (from aiohttp<4.0.0,>=3.8.3->langchain==0.0.225) (6.1.0)\n",
      "Requirement already satisfied: yarl<2.0,>=1.12.0 in c:\\users\\ss\\anaconda3\\envs\\mchb\\lib\\site-packages (from aiohttp<4.0.0,>=3.8.3->langchain==0.0.225) (1.13.1)\n",
      "Requirement already satisfied: marshmallow<4.0.0,>=3.18.0 in c:\\users\\ss\\anaconda3\\envs\\mchb\\lib\\site-packages (from dataclasses-json<0.6.0,>=0.5.7->langchain==0.0.225) (3.22.0)\n",
      "Requirement already satisfied: typing-inspect<1,>=0.4.0 in c:\\users\\ss\\anaconda3\\envs\\mchb\\lib\\site-packages (from dataclasses-json<0.6.0,>=0.5.7->langchain==0.0.225) (0.9.0)\n",
      "Requirement already satisfied: typing-extensions>=4.2.0 in c:\\users\\ss\\anaconda3\\envs\\mchb\\lib\\site-packages (from pydantic<2,>=1->langchain==0.0.225) (4.12.2)\n",
      "Requirement already satisfied: charset-normalizer<4,>=2 in c:\\users\\ss\\anaconda3\\envs\\mchb\\lib\\site-packages (from requests<3,>=2->langchain==0.0.225) (3.3.2)\n",
      "Requirement already satisfied: idna<4,>=2.5 in c:\\users\\ss\\anaconda3\\envs\\mchb\\lib\\site-packages (from requests<3,>=2->langchain==0.0.225) (3.10)\n",
      "Requirement already satisfied: urllib3<3,>=1.21.1 in c:\\users\\ss\\anaconda3\\envs\\mchb\\lib\\site-packages (from requests<3,>=2->langchain==0.0.225) (2.2.3)\n",
      "Requirement already satisfied: certifi>=2017.4.17 in c:\\users\\ss\\anaconda3\\envs\\mchb\\lib\\site-packages (from requests<3,>=2->langchain==0.0.225) (2024.8.30)\n",
      "Requirement already satisfied: greenlet!=0.4.17 in c:\\users\\ss\\anaconda3\\envs\\mchb\\lib\\site-packages (from SQLAlchemy<3,>=1.4->langchain==0.0.225) (3.1.1)\n",
      "Requirement already satisfied: packaging>=17.0 in c:\\users\\ss\\anaconda3\\envs\\mchb\\lib\\site-packages (from marshmallow<4.0.0,>=3.18.0->dataclasses-json<0.6.0,>=0.5.7->langchain==0.0.225) (24.1)\n",
      "Requirement already satisfied: mypy-extensions>=0.3.0 in c:\\users\\ss\\anaconda3\\envs\\mchb\\lib\\site-packages (from typing-inspect<1,>=0.4.0->dataclasses-json<0.6.0,>=0.5.7->langchain==0.0.225) (1.0.0)\n"
     ]
    }
   ],
   "source": [
    "!pip install langchain==0.0.225"
   ]
  },
  {
   "cell_type": "code",
   "execution_count": 10,
   "metadata": {},
   "outputs": [
    {
     "name": "stdout",
     "output_type": "stream",
     "text": [
      "Requirement already satisfied: pinecone-client in c:\\users\\ss\\anaconda3\\envs\\mchb\\lib\\site-packages (5.0.1)\n",
      "Requirement already satisfied: certifi>=2019.11.17 in c:\\users\\ss\\anaconda3\\envs\\mchb\\lib\\site-packages (from pinecone-client) (2024.8.30)\n",
      "Requirement already satisfied: pinecone-plugin-inference<2.0.0,>=1.0.3 in c:\\users\\ss\\anaconda3\\envs\\mchb\\lib\\site-packages (from pinecone-client) (1.1.0)\n",
      "Requirement already satisfied: pinecone-plugin-interface<0.0.8,>=0.0.7 in c:\\users\\ss\\anaconda3\\envs\\mchb\\lib\\site-packages (from pinecone-client) (0.0.7)\n",
      "Requirement already satisfied: tqdm>=4.64.1 in c:\\users\\ss\\anaconda3\\envs\\mchb\\lib\\site-packages (from pinecone-client) (4.66.5)\n",
      "Requirement already satisfied: typing-extensions>=3.7.4 in c:\\users\\ss\\anaconda3\\envs\\mchb\\lib\\site-packages (from pinecone-client) (4.12.2)\n",
      "Requirement already satisfied: urllib3>=1.26.5 in c:\\users\\ss\\anaconda3\\envs\\mchb\\lib\\site-packages (from pinecone-client) (2.2.3)\n",
      "Requirement already satisfied: colorama in c:\\users\\ss\\anaconda3\\envs\\mchb\\lib\\site-packages (from tqdm>=4.64.1->pinecone-client) (0.4.6)\n"
     ]
    }
   ],
   "source": [
    "!pip install pinecone-client"
   ]
  },
  {
   "cell_type": "code",
   "execution_count": 11,
   "metadata": {},
   "outputs": [],
   "source": [
    "from langchain import PromptTemplate"
   ]
  },
  {
   "cell_type": "code",
   "execution_count": 12,
   "metadata": {},
   "outputs": [],
   "source": [
    "from langchain.chains import RetrievalQA"
   ]
  },
  {
   "cell_type": "code",
   "execution_count": 13,
   "metadata": {},
   "outputs": [],
   "source": [
    "from langchain.embeddings import HuggingFaceEmbeddings\n",
    "from langchain.vectorstores import Pinecone\n",
    "import pinecone\n",
    "from langchain.document_loaders import PyMuPDFLoader, DirectoryLoader\n",
    "from langchain.text_splitter import RecursiveCharacterTextSplitter"
   ]
  },
  {
   "cell_type": "code",
   "execution_count": 14,
   "metadata": {},
   "outputs": [],
   "source": [
    "from langchain.llms import ctransformers"
   ]
  },
  {
   "cell_type": "markdown",
   "metadata": {},
   "source": [
    "### Extract my data from Pdf file"
   ]
  },
  {
   "cell_type": "code",
   "execution_count": 17,
   "metadata": {},
   "outputs": [],
   "source": [
    "def load_pdf(data):\n",
    "    loader=DirectoryLoader(data, \n",
    "                    glob=\"*.pdf\",\n",
    "                    loader_cls=PyMuPDFLoader)\n",
    "    documents= loader.load()\n",
    "\n",
    "    return documents"
   ]
  },
  {
   "cell_type": "code",
   "execution_count": 18,
   "metadata": {},
   "outputs": [
    {
     "name": "stdout",
     "output_type": "stream",
     "text": [
      "Collecting PyPDF2\n",
      "  Downloading pypdf2-3.0.1-py3-none-any.whl.metadata (6.8 kB)\n",
      "Downloading pypdf2-3.0.1-py3-none-any.whl (232 kB)\n",
      "Installing collected packages: PyPDF2\n",
      "Successfully installed PyPDF2-3.0.1\n"
     ]
    }
   ],
   "source": [
    "!pip install PyPDF2"
   ]
  },
  {
   "cell_type": "code",
   "execution_count": 21,
   "metadata": {},
   "outputs": [
    {
     "ename": "ImportError",
     "evalue": "`PyMuPDF` package not found, please install it with `pip install pymupdf`",
     "output_type": "error",
     "traceback": [
      "\u001b[1;31m---------------------------------------------------------------------------\u001b[0m",
      "\u001b[1;31mModuleNotFoundError\u001b[0m                       Traceback (most recent call last)",
      "File \u001b[1;32mc:\\Users\\SS\\anaconda3\\envs\\mchb\\Lib\\site-packages\\langchain\\document_loaders\\pdf.py:261\u001b[0m, in \u001b[0;36mPyMuPDFLoader.__init__\u001b[1;34m(self, file_path)\u001b[0m\n\u001b[0;32m    260\u001b[0m \u001b[38;5;28;01mtry\u001b[39;00m:\n\u001b[1;32m--> 261\u001b[0m     \u001b[38;5;28;01mimport\u001b[39;00m \u001b[38;5;21;01mfitz\u001b[39;00m  \u001b[38;5;66;03m# noqa:F401\u001b[39;00m\n\u001b[0;32m    262\u001b[0m \u001b[38;5;28;01mexcept\u001b[39;00m \u001b[38;5;167;01mImportError\u001b[39;00m:\n",
      "\u001b[1;31mModuleNotFoundError\u001b[0m: No module named 'fitz'",
      "\nDuring handling of the above exception, another exception occurred:\n",
      "\u001b[1;31mImportError\u001b[0m                               Traceback (most recent call last)",
      "Cell \u001b[1;32mIn[21], line 1\u001b[0m\n\u001b[1;32m----> 1\u001b[0m extracted_data \u001b[38;5;241m=\u001b[39m \u001b[43mload_pdf\u001b[49m\u001b[43m(\u001b[49m\u001b[38;5;124;43m\"\u001b[39;49m\u001b[38;5;124;43mdata/\u001b[39;49m\u001b[38;5;124;43m\"\u001b[39;49m\u001b[43m)\u001b[49m\n",
      "Cell \u001b[1;32mIn[17], line 5\u001b[0m, in \u001b[0;36mload_pdf\u001b[1;34m(data)\u001b[0m\n\u001b[0;32m      1\u001b[0m \u001b[38;5;28;01mdef\u001b[39;00m \u001b[38;5;21mload_pdf\u001b[39m(data):\n\u001b[0;32m      2\u001b[0m     loader\u001b[38;5;241m=\u001b[39mDirectoryLoader(data, \n\u001b[0;32m      3\u001b[0m                     glob\u001b[38;5;241m=\u001b[39m\u001b[38;5;124m\"\u001b[39m\u001b[38;5;124m*.pdf\u001b[39m\u001b[38;5;124m\"\u001b[39m,\n\u001b[0;32m      4\u001b[0m                     loader_cls\u001b[38;5;241m=\u001b[39mPyMuPDFLoader)\n\u001b[1;32m----> 5\u001b[0m     documents\u001b[38;5;241m=\u001b[39m \u001b[43mloader\u001b[49m\u001b[38;5;241;43m.\u001b[39;49m\u001b[43mload\u001b[49m\u001b[43m(\u001b[49m\u001b[43m)\u001b[49m\n\u001b[0;32m      7\u001b[0m     \u001b[38;5;28;01mreturn\u001b[39;00m documents\n",
      "File \u001b[1;32mc:\\Users\\SS\\anaconda3\\envs\\mchb\\Lib\\site-packages\\langchain\\document_loaders\\directory.py:131\u001b[0m, in \u001b[0;36mDirectoryLoader.load\u001b[1;34m(self)\u001b[0m\n\u001b[0;32m    129\u001b[0m \u001b[38;5;28;01melse\u001b[39;00m:\n\u001b[0;32m    130\u001b[0m     \u001b[38;5;28;01mfor\u001b[39;00m i \u001b[38;5;129;01min\u001b[39;00m items:\n\u001b[1;32m--> 131\u001b[0m         \u001b[38;5;28;43mself\u001b[39;49m\u001b[38;5;241;43m.\u001b[39;49m\u001b[43mload_file\u001b[49m\u001b[43m(\u001b[49m\u001b[43mi\u001b[49m\u001b[43m,\u001b[49m\u001b[43m \u001b[49m\u001b[43mp\u001b[49m\u001b[43m,\u001b[49m\u001b[43m \u001b[49m\u001b[43mdocs\u001b[49m\u001b[43m,\u001b[49m\u001b[43m \u001b[49m\u001b[43mpbar\u001b[49m\u001b[43m)\u001b[49m\n\u001b[0;32m    133\u001b[0m \u001b[38;5;28;01mif\u001b[39;00m pbar:\n\u001b[0;32m    134\u001b[0m     pbar\u001b[38;5;241m.\u001b[39mclose()\n",
      "File \u001b[1;32mc:\\Users\\SS\\anaconda3\\envs\\mchb\\Lib\\site-packages\\langchain\\document_loaders\\directory.py:92\u001b[0m, in \u001b[0;36mDirectoryLoader.load_file\u001b[1;34m(self, item, path, docs, pbar)\u001b[0m\n\u001b[0;32m     90\u001b[0m         logger\u001b[38;5;241m.\u001b[39mwarning(e)\n\u001b[0;32m     91\u001b[0m     \u001b[38;5;28;01melse\u001b[39;00m:\n\u001b[1;32m---> 92\u001b[0m         \u001b[38;5;28;01mraise\u001b[39;00m e\n\u001b[0;32m     93\u001b[0m \u001b[38;5;28;01mfinally\u001b[39;00m:\n\u001b[0;32m     94\u001b[0m     \u001b[38;5;28;01mif\u001b[39;00m pbar:\n",
      "File \u001b[1;32mc:\\Users\\SS\\anaconda3\\envs\\mchb\\Lib\\site-packages\\langchain\\document_loaders\\directory.py:86\u001b[0m, in \u001b[0;36mDirectoryLoader.load_file\u001b[1;34m(self, item, path, docs, pbar)\u001b[0m\n\u001b[0;32m     84\u001b[0m \u001b[38;5;28;01mif\u001b[39;00m _is_visible(item\u001b[38;5;241m.\u001b[39mrelative_to(path)) \u001b[38;5;129;01mor\u001b[39;00m \u001b[38;5;28mself\u001b[39m\u001b[38;5;241m.\u001b[39mload_hidden:\n\u001b[0;32m     85\u001b[0m     \u001b[38;5;28;01mtry\u001b[39;00m:\n\u001b[1;32m---> 86\u001b[0m         sub_docs \u001b[38;5;241m=\u001b[39m \u001b[38;5;28;43mself\u001b[39;49m\u001b[38;5;241;43m.\u001b[39;49m\u001b[43mloader_cls\u001b[49m\u001b[43m(\u001b[49m\u001b[38;5;28;43mstr\u001b[39;49m\u001b[43m(\u001b[49m\u001b[43mitem\u001b[49m\u001b[43m)\u001b[49m\u001b[43m,\u001b[49m\u001b[43m \u001b[49m\u001b[38;5;241;43m*\u001b[39;49m\u001b[38;5;241;43m*\u001b[39;49m\u001b[38;5;28;43mself\u001b[39;49m\u001b[38;5;241;43m.\u001b[39;49m\u001b[43mloader_kwargs\u001b[49m\u001b[43m)\u001b[49m\u001b[38;5;241m.\u001b[39mload()\n\u001b[0;32m     87\u001b[0m         docs\u001b[38;5;241m.\u001b[39mextend(sub_docs)\n\u001b[0;32m     88\u001b[0m     \u001b[38;5;28;01mexcept\u001b[39;00m \u001b[38;5;167;01mException\u001b[39;00m \u001b[38;5;28;01mas\u001b[39;00m e:\n",
      "File \u001b[1;32mc:\\Users\\SS\\anaconda3\\envs\\mchb\\Lib\\site-packages\\langchain\\document_loaders\\pdf.py:263\u001b[0m, in \u001b[0;36mPyMuPDFLoader.__init__\u001b[1;34m(self, file_path)\u001b[0m\n\u001b[0;32m    261\u001b[0m     \u001b[38;5;28;01mimport\u001b[39;00m \u001b[38;5;21;01mfitz\u001b[39;00m  \u001b[38;5;66;03m# noqa:F401\u001b[39;00m\n\u001b[0;32m    262\u001b[0m \u001b[38;5;28;01mexcept\u001b[39;00m \u001b[38;5;167;01mImportError\u001b[39;00m:\n\u001b[1;32m--> 263\u001b[0m     \u001b[38;5;28;01mraise\u001b[39;00m \u001b[38;5;167;01mImportError\u001b[39;00m(\n\u001b[0;32m    264\u001b[0m         \u001b[38;5;124m\"\u001b[39m\u001b[38;5;124m`PyMuPDF` package not found, please install it with \u001b[39m\u001b[38;5;124m\"\u001b[39m\n\u001b[0;32m    265\u001b[0m         \u001b[38;5;124m\"\u001b[39m\u001b[38;5;124m`pip install pymupdf`\u001b[39m\u001b[38;5;124m\"\u001b[39m\n\u001b[0;32m    266\u001b[0m     )\n\u001b[0;32m    268\u001b[0m \u001b[38;5;28msuper\u001b[39m()\u001b[38;5;241m.\u001b[39m\u001b[38;5;21m__init__\u001b[39m(file_path)\n",
      "\u001b[1;31mImportError\u001b[0m: `PyMuPDF` package not found, please install it with `pip install pymupdf`"
     ]
    }
   ],
   "source": [
    "extracted_data = load_pdf(\"data/\")"
   ]
  }
 ],
 "metadata": {
  "kernelspec": {
   "display_name": "mchb",
   "language": "python",
   "name": "python3"
  },
  "language_info": {
   "codemirror_mode": {
    "name": "ipython",
    "version": 3
   },
   "file_extension": ".py",
   "mimetype": "text/x-python",
   "name": "python",
   "nbconvert_exporter": "python",
   "pygments_lexer": "ipython3",
   "version": "3.12.7"
  }
 },
 "nbformat": 4,
 "nbformat_minor": 2
}
