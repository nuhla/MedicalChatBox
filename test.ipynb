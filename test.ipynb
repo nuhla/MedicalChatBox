{
 "cells": [
  {
   "cell_type": "code",
   "execution_count": 8,
   "metadata": {},
   "outputs": [
    {
     "name": "stdout",
     "output_type": "stream",
     "text": [
      "ok\n"
     ]
    }
   ],
   "source": [
    "print(\"ok\")"
   ]
  },
  {
   "cell_type": "code",
   "execution_count": 9,
   "metadata": {},
   "outputs": [
    {
     "name": "stdout",
     "output_type": "stream",
     "text": [
      "Requirement already satisfied: langchain==0.0.225 in c:\\users\\ss\\anaconda3\\envs\\mchb\\lib\\site-packages (0.0.225)\n",
      "Requirement already satisfied: PyYAML>=5.4.1 in c:\\users\\ss\\anaconda3\\envs\\mchb\\lib\\site-packages (from langchain==0.0.225) (6.0.2)\n",
      "Requirement already satisfied: SQLAlchemy<3,>=1.4 in c:\\users\\ss\\anaconda3\\envs\\mchb\\lib\\site-packages (from langchain==0.0.225) (2.0.35)\n",
      "Requirement already satisfied: aiohttp<4.0.0,>=3.8.3 in c:\\users\\ss\\anaconda3\\envs\\mchb\\lib\\site-packages (from langchain==0.0.225) (3.10.9)\n",
      "Requirement already satisfied: dataclasses-json<0.6.0,>=0.5.7 in c:\\users\\ss\\anaconda3\\envs\\mchb\\lib\\site-packages (from langchain==0.0.225) (0.5.14)\n",
      "Requirement already satisfied: langchainplus-sdk<0.0.21,>=0.0.20 in c:\\users\\ss\\anaconda3\\envs\\mchb\\lib\\site-packages (from langchain==0.0.225) (0.0.20)\n",
      "Requirement already satisfied: numexpr<3.0.0,>=2.8.4 in c:\\users\\ss\\anaconda3\\envs\\mchb\\lib\\site-packages (from langchain==0.0.225) (2.10.1)\n",
      "Requirement already satisfied: numpy<2,>=1 in c:\\users\\ss\\anaconda3\\envs\\mchb\\lib\\site-packages (from langchain==0.0.225) (1.26.4)\n",
      "Requirement already satisfied: openapi-schema-pydantic<2.0,>=1.2 in c:\\users\\ss\\anaconda3\\envs\\mchb\\lib\\site-packages (from langchain==0.0.225) (1.2.4)\n",
      "Requirement already satisfied: pydantic<2,>=1 in c:\\users\\ss\\anaconda3\\envs\\mchb\\lib\\site-packages (from langchain==0.0.225) (1.10.18)\n",
      "Requirement already satisfied: requests<3,>=2 in c:\\users\\ss\\anaconda3\\envs\\mchb\\lib\\site-packages (from langchain==0.0.225) (2.32.3)\n",
      "Requirement already satisfied: tenacity<9.0.0,>=8.1.0 in c:\\users\\ss\\anaconda3\\envs\\mchb\\lib\\site-packages (from langchain==0.0.225) (8.5.0)\n",
      "Requirement already satisfied: aiohappyeyeballs>=2.3.0 in c:\\users\\ss\\anaconda3\\envs\\mchb\\lib\\site-packages (from aiohttp<4.0.0,>=3.8.3->langchain==0.0.225) (2.4.3)\n",
      "Requirement already satisfied: aiosignal>=1.1.2 in c:\\users\\ss\\anaconda3\\envs\\mchb\\lib\\site-packages (from aiohttp<4.0.0,>=3.8.3->langchain==0.0.225) (1.3.1)\n",
      "Requirement already satisfied: attrs>=17.3.0 in c:\\users\\ss\\anaconda3\\envs\\mchb\\lib\\site-packages (from aiohttp<4.0.0,>=3.8.3->langchain==0.0.225) (24.2.0)\n",
      "Requirement already satisfied: frozenlist>=1.1.1 in c:\\users\\ss\\anaconda3\\envs\\mchb\\lib\\site-packages (from aiohttp<4.0.0,>=3.8.3->langchain==0.0.225) (1.4.1)\n",
      "Requirement already satisfied: multidict<7.0,>=4.5 in c:\\users\\ss\\anaconda3\\envs\\mchb\\lib\\site-packages (from aiohttp<4.0.0,>=3.8.3->langchain==0.0.225) (6.1.0)\n",
      "Requirement already satisfied: yarl<2.0,>=1.12.0 in c:\\users\\ss\\anaconda3\\envs\\mchb\\lib\\site-packages (from aiohttp<4.0.0,>=3.8.3->langchain==0.0.225) (1.13.1)\n",
      "Requirement already satisfied: marshmallow<4.0.0,>=3.18.0 in c:\\users\\ss\\anaconda3\\envs\\mchb\\lib\\site-packages (from dataclasses-json<0.6.0,>=0.5.7->langchain==0.0.225) (3.22.0)\n",
      "Requirement already satisfied: typing-inspect<1,>=0.4.0 in c:\\users\\ss\\anaconda3\\envs\\mchb\\lib\\site-packages (from dataclasses-json<0.6.0,>=0.5.7->langchain==0.0.225) (0.9.0)\n",
      "Requirement already satisfied: typing-extensions>=4.2.0 in c:\\users\\ss\\anaconda3\\envs\\mchb\\lib\\site-packages (from pydantic<2,>=1->langchain==0.0.225) (4.12.2)\n",
      "Requirement already satisfied: charset-normalizer<4,>=2 in c:\\users\\ss\\anaconda3\\envs\\mchb\\lib\\site-packages (from requests<3,>=2->langchain==0.0.225) (3.3.2)\n",
      "Requirement already satisfied: idna<4,>=2.5 in c:\\users\\ss\\anaconda3\\envs\\mchb\\lib\\site-packages (from requests<3,>=2->langchain==0.0.225) (3.10)\n",
      "Requirement already satisfied: urllib3<3,>=1.21.1 in c:\\users\\ss\\anaconda3\\envs\\mchb\\lib\\site-packages (from requests<3,>=2->langchain==0.0.225) (2.2.3)\n",
      "Requirement already satisfied: certifi>=2017.4.17 in c:\\users\\ss\\anaconda3\\envs\\mchb\\lib\\site-packages (from requests<3,>=2->langchain==0.0.225) (2024.8.30)\n",
      "Requirement already satisfied: greenlet!=0.4.17 in c:\\users\\ss\\anaconda3\\envs\\mchb\\lib\\site-packages (from SQLAlchemy<3,>=1.4->langchain==0.0.225) (3.1.1)\n",
      "Requirement already satisfied: packaging>=17.0 in c:\\users\\ss\\anaconda3\\envs\\mchb\\lib\\site-packages (from marshmallow<4.0.0,>=3.18.0->dataclasses-json<0.6.0,>=0.5.7->langchain==0.0.225) (24.1)\n",
      "Requirement already satisfied: mypy-extensions>=0.3.0 in c:\\users\\ss\\anaconda3\\envs\\mchb\\lib\\site-packages (from typing-inspect<1,>=0.4.0->dataclasses-json<0.6.0,>=0.5.7->langchain==0.0.225) (1.0.0)\n"
     ]
    }
   ],
   "source": [
    "!pip install langchain==0.0.225"
   ]
  },
  {
   "cell_type": "code",
   "execution_count": 10,
   "metadata": {},
   "outputs": [
    {
     "name": "stdout",
     "output_type": "stream",
     "text": [
      "Requirement already satisfied: pinecone-client in c:\\users\\ss\\anaconda3\\envs\\mchb\\lib\\site-packages (5.0.1)\n",
      "Requirement already satisfied: certifi>=2019.11.17 in c:\\users\\ss\\anaconda3\\envs\\mchb\\lib\\site-packages (from pinecone-client) (2024.8.30)\n",
      "Requirement already satisfied: pinecone-plugin-inference<2.0.0,>=1.0.3 in c:\\users\\ss\\anaconda3\\envs\\mchb\\lib\\site-packages (from pinecone-client) (1.1.0)\n",
      "Requirement already satisfied: pinecone-plugin-interface<0.0.8,>=0.0.7 in c:\\users\\ss\\anaconda3\\envs\\mchb\\lib\\site-packages (from pinecone-client) (0.0.7)\n",
      "Requirement already satisfied: tqdm>=4.64.1 in c:\\users\\ss\\anaconda3\\envs\\mchb\\lib\\site-packages (from pinecone-client) (4.66.5)\n",
      "Requirement already satisfied: typing-extensions>=3.7.4 in c:\\users\\ss\\anaconda3\\envs\\mchb\\lib\\site-packages (from pinecone-client) (4.12.2)\n",
      "Requirement already satisfied: urllib3>=1.26.5 in c:\\users\\ss\\anaconda3\\envs\\mchb\\lib\\site-packages (from pinecone-client) (2.2.3)\n",
      "Requirement already satisfied: colorama in c:\\users\\ss\\anaconda3\\envs\\mchb\\lib\\site-packages (from tqdm>=4.64.1->pinecone-client) (0.4.6)\n"
     ]
    }
   ],
   "source": [
    "!pip install pinecone-client"
   ]
  },
  {
   "cell_type": "code",
   "execution_count": 11,
   "metadata": {},
   "outputs": [],
   "source": [
    "from langchain import PromptTemplate"
   ]
  },
  {
   "cell_type": "code",
   "execution_count": 12,
   "metadata": {},
   "outputs": [],
   "source": [
    "from langchain.chains import RetrievalQA"
   ]
  },
  {
   "cell_type": "code",
   "execution_count": 13,
   "metadata": {},
   "outputs": [],
   "source": [
    "from langchain.embeddings import HuggingFaceEmbeddings\n",
    "from langchain.vectorstores import Pinecone\n",
    "import pinecone\n",
    "from langchain.document_loaders import PyMuPDFLoader, DirectoryLoader\n",
    "from langchain.text_splitter import RecursiveCharacterTextSplitter"
   ]
  },
  {
   "cell_type": "code",
   "execution_count": 14,
   "metadata": {},
   "outputs": [],
   "source": [
    "from langchain.llms import ctransformers"
   ]
  },
  {
   "cell_type": "markdown",
   "metadata": {},
   "source": [
    "### Extract my data from Pdf file"
   ]
  },
  {
   "cell_type": "code",
   "execution_count": 17,
   "metadata": {},
   "outputs": [],
   "source": [
    "def load_pdf(data):\n",
    "    loader=DirectoryLoader(data, \n",
    "                    glob=\"*.pdf\",\n",
    "                    loader_cls=PyMuPDFLoader)\n",
    "    documents= loader.load()\n",
    "\n",
    "    return documents"
   ]
  },
  {
   "cell_type": "code",
   "execution_count": 23,
   "metadata": {},
   "outputs": [
    {
     "name": "stdout",
     "output_type": "stream",
     "text": [
      "Requirement already satisfied: PyPDF2 in c:\\users\\ss\\anaconda3\\envs\\mchb\\lib\\site-packages (3.0.1)\n",
      "Collecting PyMuPDF\n",
      "  Using cached PyMuPDF-1.24.11-cp38-abi3-win_amd64.whl.metadata (3.4 kB)\n",
      "Using cached PyMuPDF-1.24.11-cp38-abi3-win_amd64.whl (16.0 MB)\n",
      "Installing collected packages: PyMuPDF\n",
      "Successfully installed PyMuPDF-1.24.11\n"
     ]
    }
   ],
   "source": [
    "!pip install PyPDF2\n",
    "!pip install PyMuPDF"
   ]
  },
  {
   "cell_type": "code",
   "execution_count": 24,
   "metadata": {},
   "outputs": [],
   "source": [
    "extracted_data = load_pdf(\"data/\")"
   ]
  },
  {
   "cell_type": "markdown",
   "metadata": {},
   "source": [
    "### Split Text to Create chunks"
   ]
  },
  {
   "cell_type": "code",
   "execution_count": 27,
   "metadata": {},
   "outputs": [],
   "source": [
    "def text_splinting(extracted_data):\n",
    "    text_splitter=RecursiveCharacterTextSplitter(chunk_size=500, chunk_overlap=20)\n",
    "    text_chunks=text_splitter.split_documents(extracted_data)\n",
    "    return text_chunks "
   ]
  },
  {
   "cell_type": "code",
   "execution_count": null,
   "metadata": {},
   "outputs": [],
   "source": [
    "chunks = text_splinting(extracted_data)"
   ]
  }
 ],
 "metadata": {
  "kernelspec": {
   "display_name": "mchb",
   "language": "python",
   "name": "python3"
  },
  "language_info": {
   "codemirror_mode": {
    "name": "ipython",
    "version": 3
   },
   "file_extension": ".py",
   "mimetype": "text/x-python",
   "name": "python",
   "nbconvert_exporter": "python",
   "pygments_lexer": "ipython3",
   "version": "3.12.7"
  }
 },
 "nbformat": 4,
 "nbformat_minor": 2
}
